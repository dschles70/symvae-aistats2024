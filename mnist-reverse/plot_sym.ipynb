{
 "cells": [
  {
   "cell_type": "code",
   "execution_count": null,
   "id": "2209005f",
   "metadata": {
    "tags": []
   },
   "outputs": [],
   "source": [
    "import matplotlib.pyplot as plt\n",
    "import matplotlib.image as mpimg\n",
    "import numpy as np\n",
    "\n",
    "suffixes = ['0']\n",
    "descr =    ['sym']\n",
    "\n",
    "nfiles = len(suffixes)\n",
    "names = ['./logs/log-' + s + '.txt' for s in suffixes]\n",
    "\n",
    "# default colors from T10-palette\n",
    "colors = ['tab:blue', 'tab:orange', 'tab:green', 'tab:red', 'tab:purple', 'tab:brown', 'tab:pink', 'tab:gray', 'tab:olive', 'tab:cyan']\n",
    "\n",
    "# load data\n",
    "data = [None] * nfiles\n",
    "for i in range(nfiles):\n",
    "    data[i] = np.loadtxt(names[i], comments='#', delimiter=' ', ndmin=2, usecols = (1,3, 5,7,9))\n",
    "\n",
    "# common plot parameters\n",
    "plt.rcParams.update({'font.size': 16})\n",
    "# maxx = 10000\n",
    "maxx = -1 # means no limit\n"
   ]
  },
  {
   "cell_type": "code",
   "execution_count": null,
   "id": "7b057afa",
   "metadata": {},
   "outputs": [],
   "source": [
    "plt.rcParams[\"figure.figsize\"] = (30,6)\n",
    "fig, ax = plt.subplots(1, 3)\n",
    "fig.suptitle('Losses ...')\n",
    "\n",
    "for i in range(nfiles):\n",
    "    ax[0].plot(data[i][:,1],data[i][:,2], color=colors[i]);\n",
    "ax[0].set_ylabel('len');\n",
    "ax[0].grid(True);\n",
    "if maxx>0: ax[0].set_xlim((0, maxx));\n",
    "\n",
    "for i in range(nfiles):\n",
    "    ax[1].plot(data[i][:,1],data[i][:,3], color=colors[i]);\n",
    "ax[1].set_ylabel('ploss');\n",
    "ax[1].grid(True);\n",
    "if maxx>0: ax[1].set_xlim((0, maxx));\n",
    "\n",
    "for i in range(nfiles):\n",
    "    ax[2].plot(data[i][:,1],data[i][:,4], color=colors[i]);\n",
    "ax[2].set_ylabel('qloss');\n",
    "ax[2].grid(True);\n",
    "if maxx>0: ax[2].set_xlim((0, maxx));\n",
    "\n",
    "ax[1].legend(descr);\n"
   ]
  },
  {
   "cell_type": "code",
   "execution_count": null,
   "id": "22deb987",
   "metadata": {
    "tags": []
   },
   "outputs": [],
   "source": [
    "# reconstructed images\n",
    "\n",
    "plt.rcParams[\"figure.figsize\"] = (30, 10*nfiles)\n",
    "\n",
    "fig, ax = plt.subplots(nfiles,1)\n",
    "\n",
    "imgfiles = ['./images/img_' + s + '.png' for s in suffixes]\n",
    "\n",
    "if nfiles == 1:\n",
    "    ax.imshow(mpimg.imread(imgfiles[0]));\n",
    "    ax.set_xlabel(descr[0]);\n",
    "else:\n",
    "    for i in range(nfiles):\n",
    "        ax[i].imshow(mpimg.imread(imgfiles[i]))\n",
    "        ax[i].set_xlabel(descr[i]);\n"
   ]
  },
  {
   "cell_type": "code",
   "execution_count": null,
   "id": "14c24ad4",
   "metadata": {
    "tags": []
   },
   "outputs": [],
   "source": [
    "# times\n",
    "\n",
    "for i in range(nfiles):\n",
    "    num = data[i].size//5\n",
    "    last_time = data[i][num-1,0]\n",
    "    last_it = data[i][num-1,1]\n",
    "    speed = last_it/last_time\n",
    "    print(descr[i], '(it/sec):' , speed, '\\t', last_it, 'iterations')"
   ]
  }
 ],
 "metadata": {
  "kernelspec": {
   "display_name": "Python 3 (ipykernel)",
   "language": "python",
   "name": "python3"
  },
  "language_info": {
   "codemirror_mode": {
    "name": "ipython",
    "version": 3
   },
   "file_extension": ".py",
   "mimetype": "text/x-python",
   "name": "python",
   "nbconvert_exporter": "python",
   "pygments_lexer": "ipython3",
   "version": "3.9.10"
  },
  "metadata": {
   "interpreter": {
    "hash": "7812ea015bdcee6f23a998adcdd2ef97c151c0c241b7b7070987d9313e41299d"
   }
  },
  "vscode": {
   "interpreter": {
    "hash": "7812ea015bdcee6f23a998adcdd2ef97c151c0c241b7b7070987d9313e41299d"
   }
  }
 },
 "nbformat": 4,
 "nbformat_minor": 5
}
